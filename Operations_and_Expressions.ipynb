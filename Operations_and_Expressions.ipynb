{
  "nbformat": 4,
  "nbformat_minor": 0,
  "metadata": {
    "colab": {
      "name": "Operations and Expressions.ipynb",
      "provenance": [],
      "collapsed_sections": [],
      "authorship_tag": "ABX9TyOnyKdJgITDP65rbl5fe832",
      "include_colab_link": true
    },
    "kernelspec": {
      "name": "python3",
      "display_name": "Python 3"
    },
    "language_info": {
      "name": "python"
    }
  },
  "cells": [
    {
      "cell_type": "markdown",
      "metadata": {
        "id": "view-in-github",
        "colab_type": "text"
      },
      "source": [
        "<a href=\"https://colab.research.google.com/github/AndreaDenise/Numerical-Methods-58012/blob/main/Operations_and_Expressions.ipynb\" target=\"_parent\"><img src=\"https://colab.research.google.com/assets/colab-badge.svg\" alt=\"Open In Colab\"/></a>"
      ]
    },
    {
      "cell_type": "code",
      "execution_count": null,
      "metadata": {
        "id": "guU49f1aVDPQ"
      },
      "outputs": [],
      "source": [
        "#BOOLEAN OPERATORS\n",
        "\n",
        "print(10>9)\n",
        "print(10<9)\n",
        "print(10==9)"
      ]
    },
    {
      "cell_type": "code",
      "source": [
        "a = 10\n",
        "b = 9\n",
        "\n",
        "print(a==b)"
      ],
      "metadata": {
        "colab": {
          "base_uri": "https://localhost:8080/"
        },
        "id": "_6ux3UjuZDzD",
        "outputId": "d7bd50b4-3099-439d-b5be-635c46ee1ef1"
      },
      "execution_count": null,
      "outputs": [
        {
          "output_type": "stream",
          "name": "stdout",
          "text": [
            "False\n"
          ]
        }
      ]
    },
    {
      "cell_type": "code",
      "source": [
        "print(bool(1))\n",
        "print(bool(\"Andrea\"))"
      ],
      "metadata": {
        "colab": {
          "base_uri": "https://localhost:8080/"
        },
        "id": "VsJ8jdakZNGE",
        "outputId": "b2e0b3e6-0b01-497a-e9a5-5c27a24ab57e"
      },
      "execution_count": null,
      "outputs": [
        {
          "output_type": "stream",
          "name": "stdout",
          "text": [
            "True\n",
            "True\n"
          ]
        }
      ]
    },
    {
      "cell_type": "code",
      "source": [
        "##functions can return a boolean\n",
        "def my_Function():\n",
        "  return False\n",
        "\n",
        "print(my_Function())"
      ],
      "metadata": {
        "colab": {
          "base_uri": "https://localhost:8080/"
        },
        "id": "IR45qg_NZUzm",
        "outputId": "9512ca11-bb1c-42c5-cc63-c076c4860ab6"
      },
      "execution_count": null,
      "outputs": [
        {
          "output_type": "stream",
          "name": "stdout",
          "text": [
            "False\n"
          ]
        }
      ]
    },
    {
      "cell_type": "code",
      "source": [
        "if my_Function():\n",
        "  print(\"YEAH\")\n",
        "else:\n",
        "  print(\"NAUR\")"
      ],
      "metadata": {
        "colab": {
          "base_uri": "https://localhost:8080/"
        },
        "id": "CJS6fbeDZx62",
        "outputId": "435e6231-41f7-4af4-a4f2-5427903df862"
      },
      "execution_count": null,
      "outputs": [
        {
          "output_type": "stream",
          "name": "stdout",
          "text": [
            "NAUR\n"
          ]
        }
      ]
    },
    {
      "cell_type": "code",
      "source": [
        "#APPLICATION 1\n",
        "a=6\n",
        "b=7\n",
        "\n",
        "print(a==b)\n",
        "print(a!=b)"
      ],
      "metadata": {
        "colab": {
          "base_uri": "https://localhost:8080/"
        },
        "id": "xarVqAr3aLcW",
        "outputId": "5148bc21-c290-48c9-dcbd-bc8aaf739c27"
      },
      "execution_count": null,
      "outputs": [
        {
          "output_type": "stream",
          "name": "stdout",
          "text": [
            "False\n",
            "True\n"
          ]
        }
      ]
    },
    {
      "cell_type": "code",
      "source": [
        "#Python Operators\n",
        "a = 10\n",
        "b = 5\n",
        "print(a-b)\n",
        "print(a+b)\n",
        "print(a%b)\n",
        "print(a//b)\n",
        "print(a**b)"
      ],
      "metadata": {
        "colab": {
          "base_uri": "https://localhost:8080/"
        },
        "id": "KCXmqa60ax28",
        "outputId": "2d1e5e9b-9fb4-4107-f5cf-ba07c80a68b4"
      },
      "execution_count": null,
      "outputs": [
        {
          "output_type": "stream",
          "name": "stdout",
          "text": [
            "5\n",
            "15\n",
            "0\n",
            "2\n",
            "100000\n"
          ]
        }
      ]
    },
    {
      "cell_type": "code",
      "source": [
        "#BITWISE OPERATORS\n",
        "a = 60\n",
        "b = 13\n",
        "\n",
        "print(a&b)\n",
        "print(a|b)\n",
        "print(a^b)"
      ],
      "metadata": {
        "colab": {
          "base_uri": "https://localhost:8080/"
        },
        "id": "8vUl3HEAbkLu",
        "outputId": "38e303c9-fe64-4b8f-d1ae-87d201c1a3e9"
      },
      "execution_count": null,
      "outputs": [
        {
          "output_type": "stream",
          "name": "stdout",
          "text": [
            "12\n",
            "61\n",
            "49\n"
          ]
        }
      ]
    },
    {
      "cell_type": "code",
      "source": [
        "#Assignment Operators\n",
        "a += 3\n",
        "print(a)"
      ],
      "metadata": {
        "colab": {
          "base_uri": "https://localhost:8080/"
        },
        "id": "z-A9-bk-dWO7",
        "outputId": "6fecbf11-9b60-427c-eb91-840179084154"
      },
      "execution_count": null,
      "outputs": [
        {
          "output_type": "stream",
          "name": "stdout",
          "text": [
            "63\n"
          ]
        }
      ]
    },
    {
      "cell_type": "code",
      "source": [
        "#LOgical operators\n",
        "x = True\n",
        "y = False \n",
        "\n",
        "print(x and y)\n",
        "print(x or y)\n",
        "print(not(x and y))"
      ],
      "metadata": {
        "colab": {
          "base_uri": "https://localhost:8080/"
        },
        "id": "bXs0izOfeNHN",
        "outputId": "644a8d50-3e3c-4a7b-b459-4035371f1507"
      },
      "execution_count": null,
      "outputs": [
        {
          "output_type": "stream",
          "name": "stdout",
          "text": [
            "False\n",
            "True\n",
            "True\n"
          ]
        }
      ]
    },
    {
      "cell_type": "code",
      "source": [
        "#Identity Operators"
      ],
      "metadata": {
        "id": "19dKBSF7ekB4"
      },
      "execution_count": null,
      "outputs": []
    }
  ]
}