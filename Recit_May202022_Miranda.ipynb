{
  "nbformat": 4,
  "nbformat_minor": 0,
  "metadata": {
    "colab": {
      "name": "Recit_May202022_Miranda.ipynb",
      "provenance": [],
      "authorship_tag": "ABX9TyP1K4R91rZVBfNGyfxp6Zr+",
      "include_colab_link": true
    },
    "kernelspec": {
      "name": "python3",
      "display_name": "Python 3"
    },
    "language_info": {
      "name": "python"
    }
  },
  "cells": [
    {
      "cell_type": "markdown",
      "metadata": {
        "id": "view-in-github",
        "colab_type": "text"
      },
      "source": [
        "<a href=\"https://colab.research.google.com/github/AndreaDenise/Numerical-Methods-58012/blob/main/Recit_May202022_Miranda.ipynb\" target=\"_parent\"><img src=\"https://colab.research.google.com/assets/colab-badge.svg\" alt=\"Open In Colab\"/></a>"
      ]
    },
    {
      "cell_type": "code",
      "execution_count": 1,
      "metadata": {
        "colab": {
          "base_uri": "https://localhost:8080/"
        },
        "id": "6JxDReZYEznO",
        "outputId": "106342b4-3b9b-4a3e-c1a4-ba610e3fbd62"
      },
      "outputs": [
        {
          "output_type": "stream",
          "name": "stdout",
          "text": [
            "integral = 0.372229\n"
          ]
        }
      ],
      "source": [
        "from math import sin\n",
        "def f(x):return sin(3*x)\n",
        "\n",
        "a=0\n",
        "b=0.6\n",
        "n=7\n",
        "h = (b-a)/n\n",
        "S = h*(f(a)+f(b))\n",
        "for i in range (1,n):\n",
        "  S = S+f(a+i*h)\n",
        "Integral =h*S\n",
        "print('integral = %f' %Integral)"
      ]
    }
  ]
}