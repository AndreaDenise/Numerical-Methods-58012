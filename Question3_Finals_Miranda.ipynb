{
  "nbformat": 4,
  "nbformat_minor": 0,
  "metadata": {
    "colab": {
      "name": "Question3_Finals_Miranda.ipynb",
      "provenance": [],
      "authorship_tag": "ABX9TyPs/8KABeUCCfS5wCnn5enj",
      "include_colab_link": true
    },
    "kernelspec": {
      "name": "python3",
      "display_name": "Python 3"
    },
    "language_info": {
      "name": "python"
    }
  },
  "cells": [
    {
      "cell_type": "markdown",
      "metadata": {
        "id": "view-in-github",
        "colab_type": "text"
      },
      "source": [
        "<a href=\"https://colab.research.google.com/github/AndreaDenise/Numerical-Methods-58012/blob/main/Question3_Finals_Miranda.ipynb\" target=\"_parent\"><img src=\"https://colab.research.google.com/assets/colab-badge.svg\" alt=\"Open In Colab\"/></a>"
      ]
    },
    {
      "cell_type": "code",
      "execution_count": 2,
      "metadata": {
        "colab": {
          "base_uri": "https://localhost:8080/"
        },
        "id": "kKy6Bkpz1XB9",
        "outputId": "44af50fa-f1ed-4e1a-9822-c1bdd9abd4c9"
      },
      "outputs": [
        {
          "output_type": "stream",
          "name": "stdout",
          "text": [
            "Integral = -0.0000\n"
          ]
        }
      ],
      "source": [
        "from math import e\n",
        "def f(x): return e*(x)\n",
        "\n",
        "a=-1\n",
        "b=1\n",
        "n=21\n",
        "h=(b-a)/n\n",
        "S=h*(f(a)+f(b))\n",
        "for i in range(1,n):\n",
        "  S = S+f(a+i*h)\n",
        "Integral=h*S\n",
        "print('Integral = %0.4f' %Integral)"
      ]
    }
  ]
}